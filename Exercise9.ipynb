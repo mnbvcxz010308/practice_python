{
 "cells": [
  {
   "cell_type": "markdown",
   "metadata": {},
   "source": [
    "# Practice Python Exercise 9\n"
   ]
  },
  {
   "cell_type": "markdown",
   "metadata": {},
   "source": [
    "- ####  Generate a random number between 1 and 9 (including 1 and 9). Ask the user to guess the number, then tell them whether they guessed too low, too high, or exactly right. (Hint: remember to use the user input lessons from the very first exercise)\n",
    "\n",
    "> Extras:   \n",
    "- Keep the game going until the user types “exit”\n",
    "- Keep track of how many guesses the user has taken, and when the game ends, print this out.\n",
    "\n",
    "\n",
    "- Link from practice python : http://www.practicepython.org/exercise/2014/04/02/09-guessing-game-one.html"
   ]
  },
  {
   "cell_type": "code",
<<<<<<< HEAD
   "execution_count": 2,
=======
<<<<<<< HEAD
<<<<<<< HEAD
   "execution_count": null,
=======
   "execution_count": 2,
>>>>>>> exercise9
=======
   "execution_count": 2,
>>>>>>> a20f00ecc1a9e51d7205022c68294946201bf12a
>>>>>>> master
   "metadata": {
    "collapsed": false
   },
<<<<<<< HEAD
   "outputs": [],
=======
   "outputs": [
    {
     "name": "stdout",
     "output_type": "stream",
     "text": [
<<<<<<< HEAD
=======
<<<<<<< HEAD
<<<<<<< HEAD
      "Enter a number (1 to 9)5\n",
      "too low\n",
      "Do you wana continue ?:Y\n",
      "Enter a number (1 to 9)7\n",
      "too low\n",
      "Do you wana continue ?:Y\n",
      "Enter a number (1 to 9)4\n",
      "too low\n",
      "Do you wana continue ?:Y\n",
      "Enter a number (1 to 9)6\n",
      "too low\n",
      "Do you wana continue ?:Y\n",
      "Enter a number (1 to 9)3\n",
      "too low\n",
      "Do you wana continue ?:Y\n",
      "Enter a number (1 to 9)8\n",
      "too low\n"
=======
>>>>>>> master
      "Enter a number (1 to 9)9\n",
      "too high\n",
      "Do you wana continue ?:Y\n",
      "Enter a number (1 to 9)8\n",
=======
      "Enter a number (1 to 9)9\n",
      "too high\n",
      "Do you wana continue ?:Y\n",
      "Enter a number (1 to 9)8\n",
>>>>>>> a20f00ecc1a9e51d7205022c68294946201bf12a
      "too high\n",
      "Do you wana continue ?:y\n",
      "Enter a number (1 to 9)9\n",
      "too high\n",
      "Do you wana continue ?:y\n",
      "Enter a number (1 to 9)0\n",
      "too low\n",
      "Do you wana continue ?:\n"
<<<<<<< HEAD
=======
<<<<<<< HEAD
>>>>>>> exercise9
=======
>>>>>>> a20f00ecc1a9e51d7205022c68294946201bf12a
>>>>>>> master
     ]
    }
   ],
>>>>>>> master
   "source": [
    "#Main method blueprint\n",
    "import random\n",
    "def main():\n",
    "    random_num = random.randint(1,9)\n",
    "    try:\n",
    "        while True:\n",
    "            \n",
    "            user_input = int(input(\"Enter a number (1 to 9)\"))\n",
    "            dif = random_num - user_input\n",
    "            \n",
    "            if user_input in range(0,10):\n",
    "                if dif > 0:\n",
    "                    print(\"too low\")\n",
<<<<<<< HEAD
    "                    if wantToContinue() in ('Y','y','Yes'): continue \n",
=======
<<<<<<< HEAD
<<<<<<< HEAD
    "                    if wantToContinue() == \"Y\": continue \n",
=======
    "                    if wantToContinue() in ('Y','y','Yes'): continue \n",
>>>>>>> exercise9
=======
    "                    if wantToContinue() in ('Y','y','Yes'): continue \n",
>>>>>>> a20f00ecc1a9e51d7205022c68294946201bf12a
>>>>>>> master
    "                    else: break\n",
    "                    \n",
    "                    \n",
    "                elif dif < 0:\n",
    "                    print(\"too high\")\n",
<<<<<<< HEAD
    "                    if wantToContinue() in ('Y','y','Yes'): continue \n",
=======
<<<<<<< HEAD
<<<<<<< HEAD
    "                    if wantToContinue() == \"Y\": continue \n",
=======
    "                    if wantToContinue() in ('Y','y','Yes'): continue \n",
>>>>>>> exercise9
=======
    "                    if wantToContinue() in ('Y','y','Yes'): continue \n",
>>>>>>> a20f00ecc1a9e51d7205022c68294946201bf12a
>>>>>>> master
    "                    else: break\n",
    "                    \n",
    "                else:\n",
    "                    print(\"Correct\")\n",
<<<<<<< HEAD
    "                    if wantToContinue() in ('Y','y','Yes'): continue \n",
=======
<<<<<<< HEAD
<<<<<<< HEAD
    "                    if wantToContinue() == \"Y\": continue \n",
=======
    "                    if wantToContinue() in ('Y','y','Yes'): continue \n",
>>>>>>> exercise9
=======
    "                    if wantToContinue() in ('Y','y','Yes'): continue \n",
>>>>>>> a20f00ecc1a9e51d7205022c68294946201bf12a
>>>>>>> master
    "                    else: break\n",
    "                    \n",
    "            \n",
    "        \n",
    "    except:\n",
    "        print(\"game over\")\n",
    "def wantToContinue():\n",
    "    return input(\"Do you wana continue ?:\")\n",
    "    \n",
    "if __name__ == '__main__':\n",
    "    main()\n",
    "    \n",
    "    "
   ]
<<<<<<< HEAD
=======
  },
  {
   "cell_type": "code",
   "execution_count": null,
   "metadata": {
    "collapsed": true
   },
   "outputs": [],
   "source": []
<<<<<<< HEAD
=======
<<<<<<< HEAD
<<<<<<< HEAD
  },
  {
   "cell_type": "code",
   "execution_count": null,
   "metadata": {
    "collapsed": true
   },
   "outputs": [],
   "source": []
=======
>>>>>>> exercise9
=======
>>>>>>> a20f00ecc1a9e51d7205022c68294946201bf12a
>>>>>>> master
>>>>>>> master
  }
 ],
 "metadata": {
  "kernelspec": {
   "display_name": "Python 3",
   "language": "python",
   "name": "python3"
  },
  "language_info": {
   "codemirror_mode": {
    "name": "ipython",
    "version": 3
   },
   "file_extension": ".py",
   "mimetype": "text/x-python",
   "name": "python",
   "nbconvert_exporter": "python",
   "pygments_lexer": "ipython3",
   "version": "3.6.0"
  }
 },
 "nbformat": 4,
 "nbformat_minor": 2
}
