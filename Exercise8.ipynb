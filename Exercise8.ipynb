{
 "cells": [
  {
   "cell_type": "markdown",
   "metadata": {},
   "source": [
    "# Practice Python Exercise 8\n"
   ]
  },
  {
   "cell_type": "markdown",
   "metadata": {},
   "source": [
    "- ####  Make a two-player Rock-Paper-Scissors game. (Hint: Ask for player plays (using input), compare them, print out a message of congratulations to the winner, and ask if the players want to start a new game)\n",
    "\n",
    "> Remember the rules:\n",
    " - Rock beats scissors\n",
    " - Scissors beats paper\n",
    " - Paper beats rock\n",
    "\n",
    "- Link : http://www.practicepython.org/exercise/2014/03/26/08-rock-paper-scissors.html "
   ]
  },
  {
   "cell_type": "code",
<<<<<<< HEAD
   "execution_count": 2,
   "metadata": {
    "collapsed": false
   },
   "outputs": [
    {
     "name": "stdout",
     "output_type": "stream",
     "text": [
      "Player a :j\n",
      "Player b :k\n",
      "Your entry is not valid : Please enter\n",
      "                  rock\n",
      "                  paper\n",
      "                  scissors\n",
      "                  All are case sensitive\n",
      "                 \n",
      "You want to continue (Yes/No)n\n",
      "Game Over\n",
      "Thanks for playing !\n"
     ]
    }
   ],
   "source": [
    "#Exercise 8\n",
    "\n",
    "def main():\n",
    "    while True:\n",
    "        game_dict = {'rock':1,'scissors':2,'paper':3}\n",
    "        try:\n",
    "            player_a = str(input(\"Player a :\"))\n",
    "            player_b = str(input(\"Player b :\"))\n",
    "\n",
    "            a = game_dict.get(player_a)\n",
    "            b = game_dict.get(player_b)\n",
    "            dif = a - b\n",
    "        except:\n",
    "            print('''Your entry is not valid : Please enter\n",
    "                  rock\n",
    "                  paper\n",
    "                  scissors\n",
    "                  All are case sensitive\n",
    "                 '''\n",
    "                 )\n",
    "            if str(input(\"You want to continue (Yes/No)\")) in (\"Yes\",\"Y\",\"Yep\",\"y\",\"yes\"):\n",
    "                continue\n",
    "            else:\n",
    "                print(\"Game Over\")\n",
    "                break\n",
    "        finally:\n",
    "            print(\"Thanks for playing !\")\n",
    "        if dif in [-1,2]:\n",
    "            print(\"Player a wins\")\n",
    "            if str(input(\"You want to continue (Yes/No)\")) in (\"Yes\",\"Y\",\"Yep\",\"y\",\"yes\"):\n",
    "                continue\n",
    "            else:\n",
    "                print(\"Game Over\")\n",
    "                break\n",
    "        if dif in [-2,1]:\n",
    "            print(\"Player b wins\")\n",
    "            if str(input(\"You want to continue (Yes/No)\")) == \"Yes\":\n",
    "                continue\n",
    "            else:\n",
    "                print(\"Game Over\")\n",
    "                break\n",
    "        \n",
    "        else:\n",
    "            print('''Your entry is not valid : Please enter\n",
    "                  rock\n",
    "                  paper\n",
    "                  scissors\n",
    "                  All are case sensitive\n",
    "                 '''\n",
    "                 )\n",
    "        \n",
=======
   "execution_count": null,
   "metadata": {
    "collapsed": true
   },
   "outputs": [],
   "source": [
    "#Main method blueprint\n",
    "\n",
    "def main():\n",
    "    pass\n",
>>>>>>> master
    "if __name__ == '__main__':\n",
    "    main()\n",
    "    \n",
    "    "
   ]
  }
 ],
 "metadata": {
  "kernelspec": {
   "display_name": "Python 3",
   "language": "python",
   "name": "python3"
  },
  "language_info": {
   "codemirror_mode": {
    "name": "ipython",
    "version": 3
   },
   "file_extension": ".py",
   "mimetype": "text/x-python",
   "name": "python",
   "nbconvert_exporter": "python",
   "pygments_lexer": "ipython3",
<<<<<<< HEAD
   "version": "3.6.0"
=======
   "version": "3.6.1"
>>>>>>> master
  }
 },
 "nbformat": 4,
 "nbformat_minor": 2
}
