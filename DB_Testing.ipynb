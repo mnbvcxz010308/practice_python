{
 "cells": [
  {
   "cell_type": "code",
   "execution_count": 23,
   "metadata": {
    "collapsed": true
   },
   "outputs": [],
   "source": [
    "import pymysql"
   ]
  },
  {
   "cell_type": "code",
   "execution_count": 18,
   "metadata": {
    "collapsed": false
   },
   "outputs": [],
   "source": [
    "conn = conn = pymysql.connect(host='localhost', port=3306, user='root', passwd='Admin@123', db='studentsdb')"
   ]
  },
  {
   "cell_type": "code",

   "execution_count": 19,
   "metadata": {
    "collapsed": true
   },
   "outputs": [],
   "source": [
    "cur = conn.cursor()"
   ]
  },
  {
   "cell_type": "code",

   "execution_count": 20,
   "metadata": {
    "collapsed": false
   },
   "outputs": [
    {
     "name": "stderr",
     "output_type": "stream",
     "text": [
      "/home/vipin/anaconda3/lib/python3.6/site-packages/pymysql/cursors.py:166: Warning: (1050, \"Table 'Students' already exists\")\n",
      "  result = self._query(query)\n"
     ]
    },
    {
     "data": {
      "text/plain": [
       "0"
      ]
     },

     "execution_count": 20,
     "metadata": {},
     "output_type": "execute_result"
    }
   ],
   "source": [

    "cur.execute(\"\"\"CREATE TABLE IF NOT EXISTS Students (\n",
    "    ID int NOT NULL AUTO_INCREMENT,\n",
    "    LastName varchar(255) NOT NULL,\n",
    "    FirstName varchar(255),\n",
    "    Age int,\n",
    "    PRIMARY KEY (ID)\n",
    ");            \n",
    "            \"\"\")"
   ]
  },
  {
   "cell_type": "code",
   "execution_count": 29,
   "metadata": {
    "collapsed": false
   },
   "outputs": [
    {
     "name": "stdout",
     "output_type": "stream",
     "text": [
      "(2, 'Maria', 'Anna', 25)\n"
     ]
    }
   ],
   "source": [
    "with conn:\n",
    "#     cur.execute(\"\"\"INSERT INTO Students \n",
    "#                 VALUES(Null,'Maria','Anna',25);\n",
    "#                 \"\"\")\n",
    "    data = cur.execute(\"SELECT * FROM Students;\")\n",
    "    data = cur.fetchall()\n",
    "    for row in data :\n",
    "        print(row)"
   ]
  },
  {
   "cell_type": "code",
   "execution_count": 22,
   "metadata": {
    "collapsed": false
   },
   "outputs": [],
   "source": [
    "data = cur.execute(\"SELECT * FROM Students;\")"
   ]
  },
  {
   "cell_type": "code",
   "execution_count": 25,

   "metadata": {
    "collapsed": false
   },
   "outputs": [
    {
     "name": "stdout",
     "output_type": "stream",
     "text": [
      "(2, 'Maria', 'Anna', 25)\n"
     ]
    }
   ],
   "source": []
  },
  {
   "cell_type": "code",
   "execution_count": null,
   "metadata": {
    "collapsed": true
   },
   "outputs": [],
   "source": []
  }
 ],
 "metadata": {
  "kernelspec": {
   "display_name": "Python 3",
   "language": "python",
   "name": "python3"
  },
  "language_info": {
   "codemirror_mode": {
    "name": "ipython",
    "version": 3
   },
   "file_extension": ".py",
   "mimetype": "text/x-python",
   "name": "python",
   "nbconvert_exporter": "python",
   "pygments_lexer": "ipython3",
   "version": "3.6.0"
  }
 },
 "nbformat": 4,
 "nbformat_minor": 2
}
